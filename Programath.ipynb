{
  "nbformat": 4,
  "nbformat_minor": 0,
  "metadata": {
    "colab": {
      "provenance": [],
      "collapsed_sections": [
        "l5GaCI5VAdY5",
        "3fVlkirqG_7M",
        "bW8z4uAx-H4B",
        "RDPWgVJvFtBt",
        "lWolHBLNUklx",
        "0zWWth50Uvmd",
        "_xY5RTl8RaiY"
      ],
      "authorship_tag": "ABX9TyOhqLDn9/IrOrfdReasLA7g",
      "include_colab_link": true
    },
    "kernelspec": {
      "name": "python3",
      "display_name": "Python 3"
    },
    "language_info": {
      "name": "python"
    }
  },
  "cells": [
    {
      "cell_type": "markdown",
      "metadata": {
        "id": "view-in-github",
        "colab_type": "text"
      },
      "source": [
        "<a href=\"https://colab.research.google.com/github/LucioFassarella/Programath/blob/main/Programath.ipynb\" target=\"_parent\"><img src=\"https://colab.research.google.com/assets/colab-badge.svg\" alt=\"Open In Colab\"/></a>"
      ]
    },
    {
      "cell_type": "markdown",
      "source": [
        "# <font color = \"blue\">**Oficina**: Resolução de Problemas Matemáticos pela Programação</font>\n",
        "## [Semana do Conhecimento Ufes, 2025](https://semanadoconhecimento.ufes.br/) ([São Mateus](https://semanadoconhecimento.ufes.br/campus-de-s%C3%A3o-mateus))\n",
        "\n",
        "*   A oficina visa explorar a resolução de problemas matemáticos por meio da programação. A metodologia combina duas ações:\n",
        "    1.   exposição sobre o uso da programação na abordagem de questões matemáticas com\n",
        "    2.   proposição e discussão de problemas com resoluções na forma de algoritmos.\n",
        "\n",
        "**Pré-requisito**: familiaridade com a Matemática do Ensino Médio.\n",
        "    \n",
        "**Observação**: Não é necessário conhecimento de programação porque a discussão foca a elaboração de algoritmos na língua natural (pseudo-códigos). *Todavia, aqui apresentamos resoluções algorítmicas programadas na linguagem Python*.\n",
        "\n",
        "**Referências**:\n",
        "\n",
        "*   Jordan Shapiro: *5 Coisas que Você Precisa Saber Sobre o Futuro da Matemática*. Forbes, July 24, 2014.\n",
        "    *   Disponível em: [https://www.forbes.com/sites/jordanshapiro/2014/07/24/5-things-you-need-to-know-about-the-future-of-math/](https://www.forbes.com/sites/jordanshapiro/2014/07/24/5-things-you-need-to-know-about-the-future-of-math/).\n",
        "\n",
        "*   K. Devlin: *Micro-maths: Mathematical Problems and Theorems to Consider and Solve on a Computer*. Macmillam, 1984.\n",
        "\n",
        "*   Lúcio S. Fassarella: *Resolução Computacional de Problemas de Probabilidade*. Proceedings Series of the Brazilian Society of Computational and Applied Mathematics, v.3, n.2 (2015): 020129 [6 pages]. DOI:10.5540/03.2015.003.02.0129.\n",
        "    *   Disponível em: [https://proceedings.sbmac.org.br/sbmac/article/view/1020/1033](https://proceedings.sbmac.org.br/sbmac/article/view/1020/1033).\n",
        "\n",
        "*   Lúcio S. Fassarella: *Desconexão Procedimental e Programação no Ensino-Aprendizagem de Matemática: considerações a partir da Teoria dos Registros de Representação Semiótica*. Revemat, v.15(2) (2020), pp.1-24. DOI:10.5007/1981-1322.2020.e76610.\n",
        "    *   Disponível em: [https://periodicos.ufsc.br/index.php/revemat/article/view/76610](https://periodicos.ufsc.br/index.php/revemat/article/view/76610).\n",
        "\n",
        "*   Lúcio S. Fassarella: *Estimando Probabilidades por Simulações Computacionais*. Professor de Matemática Online, v.9, n.2 (2021): 240-251. DOI:10.21711/2319023x2021/pmo917.\n",
        "    *   Disponível em: [http://pmo.sbm.org.br/wp-content/uploads/sites/16/2021/02/art17_vol9_PMO_SBM_2021.pdf](http://pmo.sbm.org.br/wp-content/uploads/sites/16/2021/02/art17_vol9_PMO_SBM_2021.pdf).\n",
        "\n",
        "*   Lúcio S. Fassarella: *Aspectos Semióticos da Programação na Aprendizagem da Matemática*. Encontro Regional de Matemática Aplicada e Computacional, 2022. São Mateus, ES, 2022.\n",
        "    *   Disponível em: [http://www.fassarella.net/ensino/programath/files/Fassarella2022.pdf](http://www.fassarella.net/ensino/programath/files/Fassarella2022.pdf).\n",
        "\n",
        "*   Lúcio S. Fassarella:*A resposta é plausível? Comentários baseados em um cálculo de probabilidades*. Revista do Professor de Matemática no.70 (2009): p.1-5.\n",
        "    *   Disponível em: [http://www.rpm.org.br/cdrpm/70/10.html](http://www.rpm.org.br/cdrpm/70/10.html).\n",
        "\n"
      ],
      "metadata": {
        "id": "sV1iObgbdrhU"
      }
    },
    {
      "cell_type": "markdown",
      "source": [
        "## <font color=\"black\">**Problema**:</font> Qual é o número de dois algarismos cuja soma do seu triplo com os dois algarismos resulta em um número cujos algarismos são os do número original na ordem inversa?"
      ],
      "metadata": {
        "id": "l5GaCI5VAdY5"
      }
    },
    {
      "cell_type": "markdown",
      "source": [
        "**Resolução algébrica**\n",
        "\n",
        "Sejam $N$ o número e denote seus algarismos das dezenas e unidades por $b$ e $a$:\n",
        "$$\n",
        "    N = a + 10b,\\ a, b \\in \\left\\{0,1, \\dots, 9\\right\\}.\n",
        "$$\n",
        "Agora, escrevemos a condição de que o triplo de $N$ somado com seus dois algarismos resulta no número com os dois algarismos na ordem inversa:\n",
        "$$\n",
        "3(a + 10b) + a + b = b + 10a.\n",
        "$$\n",
        "Vamos resolver essa equação para $a,b \\in \\left\\{0,1, \\dots, 9\\right\\}$:\n",
        "$$\n",
        "\\begin{split}\n",
        "3(a + 10b) + a + b = b + 10a &\\iff 4a + 31b = b + 10a \\\\\n",
        "&\\iff 30 b = 6a\\\\\n",
        "&\\iff 5b = a.\n",
        "\\end{split}\n",
        "$$\n",
        "A condição $5b = a$ só pode ser satisfeita por dois pares de algarismos: $b = 0$ e $a = 0$, ou $b = 1$ e $a= 5$. Temos que descartar o caso $b = 0 = a$ porque eles não formam um número com dois dígitos; logo $b = 1$, $a = 5$ e $N = 15$.\n",
        "\n",
        "Agora, verificamos a condição do problema:\n",
        "$$\n",
        "3\\times 15 + 1 + 5 = 51.\n",
        "$$\n",
        "\n",
        "<font color= \"red\">Resposta:</font> N = 15."
      ],
      "metadata": {
        "id": "QHBNDWsBIERP"
      }
    },
    {
      "cell_type": "code",
      "source": [
        "'''\n",
        "Resolução computacional\n",
        "'''\n",
        "\n",
        "for num in range(10,100):\n",
        "    a = num%10\n",
        "    b = num//10\n",
        "    num2 = 3*num + a + b\n",
        "    a2 = num2%10\n",
        "    b2 = num2//10\n",
        "    if a2 == b and b2 == a:\n",
        "        print(f\"Solução: {num}.\")"
      ],
      "metadata": {
        "colab": {
          "base_uri": "https://localhost:8080/"
        },
        "id": "5TuX6AfBBsg8",
        "outputId": "0e28cbeb-0eb8-4999-f15d-227f937ef32c"
      },
      "execution_count": null,
      "outputs": [
        {
          "output_type": "stream",
          "name": "stdout",
          "text": [
            "Solução: 15.\n"
          ]
        }
      ]
    },
    {
      "cell_type": "markdown",
      "source": [
        "## <font color= \"black\">**Problema**:</font> Dois números são escritos com dois dígitos, um na ordem inversa do outro. O número menor é uma unidade a menos que a metade do número maior. Quais são esses números?"
      ],
      "metadata": {
        "id": "3fVlkirqG_7M"
      }
    },
    {
      "cell_type": "code",
      "execution_count": null,
      "metadata": {
        "colab": {
          "base_uri": "https://localhost:8080/"
        },
        "id": "uDa04_9oG9e4",
        "outputId": "646d7e9f-6f53-4e10-bd18-8eb4e9eec86f"
      },
      "outputs": [
        {
          "output_type": "stream",
          "name": "stdout",
          "text": [
            "Solução: 25 e 52.\n"
          ]
        }
      ],
      "source": [
        "for a in range(1,9+1):\n",
        "    for b in range(1,9+1):\n",
        "        num1 = a+10*b\n",
        "        num2 = b+10*a\n",
        "        if num1 < num2:\n",
        "            if num1 == num2/2 -1:\n",
        "                print(f\"Solução: {num1} e {num2}.\")\n",
        "        if num2 < num1:\n",
        "            if num1 == num2/2 -1:\n",
        "                print(f\"Solução: {num1} e {num2}.\")"
      ]
    },
    {
      "cell_type": "markdown",
      "source": [
        "## <font color= \"black\">**Problema**:</font> Com os numerais de $1$ a $9$ sem repetição, podemos escrever uma fração equivalente a $1/2$: $$\\frac{7293}{14586} = \\frac{1}{2}.$$\n",
        "## *i*) Descubra todas as frações desse tipo que sejam equivalentes a, respectivamente, $1/2$, $1/3$, $1/4$, $1/5$, $1/6$, $1/7$, $1/8$, $1/9$.\n",
        "## *ii*) Prove que não existe uma fração desse tipo equivalente a $1/1$."
      ],
      "metadata": {
        "id": "bW8z4uAx-H4B"
      }
    },
    {
      "cell_type": "code",
      "source": [
        "'''\n",
        "Resolução computacional\n",
        "'''\n",
        "\n",
        "# Importação de métodos\n",
        "\n",
        "import numpy as np\n",
        "import itertools\n",
        "\n",
        "# Gera a lista de todas as permutações dos numerais de 1 a 9\n",
        "numerais = range(1, 9 + 1)\n",
        "permutacoes = list(itertools.permutations(numerais))\n",
        "\n",
        "# Especificação do denominador (2, 3, 4, 5, 6, 7, 8 ou 9)\n",
        "razao = 2\n",
        "\n",
        "# Constrói e analisa frações\n",
        "num_fracoes = 0\n",
        "for permutacao in permutacoes:\n",
        "    for k in range(1,8+1):\n",
        "        numerador = 0\n",
        "        for n in permutacao[:k]:\n",
        "            numerador = numerador*10 + n\n",
        "        denominador = 0\n",
        "        for n in permutacao[k:]:\n",
        "            denominador = denominador*10 + n\n",
        "        if denominador == razao*numerador:\n",
        "            num_fracoes += 1\n",
        "            print(f\"Fracao 1/{razao}: {numerador}/{denominador} = {float(numerador)/float(denominador)}\")\n",
        "print(f\"Número de frações com razão 1/{razao} = {num_fracoes}\")"
      ],
      "metadata": {
        "id": "ajaoCvwgHTfj",
        "colab": {
          "base_uri": "https://localhost:8080/"
        },
        "outputId": "de9035c1-6607-4b62-ed7e-1edcddf10ca0"
      },
      "execution_count": 1,
      "outputs": [
        {
          "output_type": "stream",
          "name": "stdout",
          "text": [
            "Fracao 1/2: 6729/13458 = 0.5\n",
            "Fracao 1/2: 6792/13584 = 0.5\n",
            "Fracao 1/2: 6927/13854 = 0.5\n",
            "Fracao 1/2: 7269/14538 = 0.5\n",
            "Fracao 1/2: 7293/14586 = 0.5\n",
            "Fracao 1/2: 7329/14658 = 0.5\n",
            "Fracao 1/2: 7692/15384 = 0.5\n",
            "Fracao 1/2: 7923/15846 = 0.5\n",
            "Fracao 1/2: 7932/15864 = 0.5\n",
            "Fracao 1/2: 9267/18534 = 0.5\n",
            "Fracao 1/2: 9273/18546 = 0.5\n",
            "Fracao 1/2: 9327/18654 = 0.5\n",
            "Número de frações com razão 1/2 = 12\n"
          ]
        }
      ]
    },
    {
      "cell_type": "markdown",
      "source": [
        "## <font color= \"black\">**Problema**:</font> Arranje os dígitos de $1$ a $9$ (sem repetições) em duas frações cuja soma seja $1$.\n",
        "Exemplo: $$\\frac{23}{46} + \\frac{79}{158} = 1.$$"
      ],
      "metadata": {
        "id": "RDPWgVJvFtBt"
      }
    },
    {
      "cell_type": "code",
      "source": [
        "'''\n",
        "Resolução computacional\n",
        "'''\n",
        "\n",
        "# Importação de métodos\n",
        "\n",
        "import numpy as np\n",
        "import itertools\n",
        "\n",
        "# Funções auxiliares\n",
        "\n",
        "def divide_lista(lista, k):\n",
        "    '''\n",
        "    Função que recebe uma lista (a1, ... ,an) e retorna uma partição em duas componentes\n",
        "     preservando a ordem, com a primeira possuindo até k elementos:\n",
        "     (a1, ... ,ak) e a segunda (ak+1, ... ,an).\n",
        "    '''\n",
        "\n",
        "    return lista[:k], lista[k:]\n",
        "\n",
        "def numero_b10(lista):\n",
        "    '''\n",
        "    Função que recebe uma lista de numerais de 0 a 9 e retorna o correspondente\n",
        "     número escrito em base 10.\n",
        "    '''\n",
        "    numero = 0\n",
        "    for i in range(len(lista)):\n",
        "        numero = numero*10 + lista[i]\n",
        "    return numero\n",
        "\n",
        "def soma_fracoes(fracao_1, fracao_2):\n",
        "    '''\n",
        "    Função que recebe duas frações na forma de uma lista com duas entradas (numerador,denominador)\n",
        "     e retorna sua soma, também na forma de lista com duas entradas (numerador, denominador)\n",
        "    '''\n",
        "\n",
        "    numerador1, denominador1 = fracao_1\n",
        "    numerador2, denominador2 = fracao_2\n",
        "    numerador = numerador1*denominador2 + numerador2*denominador1\n",
        "    denominador = denominador1*denominador2\n",
        "    return numerador, denominador\n"
      ],
      "metadata": {
        "id": "LraS3KZgF80G"
      },
      "execution_count": 2,
      "outputs": []
    },
    {
      "cell_type": "code",
      "source": [
        "# Gera a lista de todas as permutações dos numerais de 1 a 9\n",
        "numerais = range(1, 9 + 1)\n",
        "permutacoes = list(itertools.permutations(numerais))\n",
        "\n",
        "# Construir e analisar os números\n",
        "num_fracoes = 0\n",
        "for permutacao in permutacoes:\n",
        "    for k in range(2, 7 + 1):\n",
        "        digitos1, digitos2 = divide_lista(permutacao, k)\n",
        "        for j in range(1, k):\n",
        "            digitos_numerador1, digitos_denominador1 = divide_lista(digitos1, j)\n",
        "            numerador1 = numero_b10(digitos_numerador1)\n",
        "            denominador1 = numero_b10(digitos_denominador1)\n",
        "            if denominador1 != 0:\n",
        "                fracao1 = (numerador1, denominador1)\n",
        "                for i in range(1, 8 - k):\n",
        "                    digitos_numerador2, digitos_denominador2 = divide_lista(digitos2, i)\n",
        "                    numerador2 = numero_b10(digitos_numerador2)\n",
        "                    denominador2 = numero_b10(digitos_denominador2)\n",
        "                    if denominador2 != 0:\n",
        "                        fracao2 = (numerador2, denominador2)\n",
        "                        soma = soma_fracoes(fracao1, fracao2)\n",
        "                        if soma[0] == soma[1]:\n",
        "                            num_fracoes += 1\n",
        "                            print(f\"Frações com soma 1: {numerador1}/{denominador1} + {numerador2}/{denominador2} = {float(numerador1)/float(denominador1) + float(numerador2)/float(denominador2)}\")\n",
        "print(f\"Número de fracoes com soma 1 = {num_fracoes/2}\")"
      ],
      "metadata": {
        "colab": {
          "base_uri": "https://localhost:8080/"
        },
        "id": "282yWAyys5FE",
        "outputId": "2f12bdfc-8ebf-4c1f-af68-6271c581de4f"
      },
      "execution_count": 3,
      "outputs": [
        {
          "output_type": "stream",
          "name": "stdout",
          "text": [
            "Frações com soma 1: 23/46 + 79/158 = 1.0\n",
            "Frações com soma 1: 2/3 + 658/1974 = 1.0\n",
            "Frações com soma 1: 24/138 + 57/69 = 1.0\n",
            "Frações com soma 1: 2/4 + 679/1358 = 1.0\n",
            "Frações com soma 1: 2/4 + 769/1538 = 1.0\n",
            "Frações com soma 1: 2/4 + 793/1586 = 1.0\n",
            "Frações com soma 1: 26/39 + 58/174 = 1.0\n",
            "Frações com soma 1: 267/534 + 9/18 = 1.0\n",
            "Frações com soma 1: 269/538 + 7/14 = 1.0\n",
            "Frações com soma 1: 2/6 + 958/1437 = 1.0\n",
            "Frações com soma 1: 27/189 + 54/63 = 1.0\n",
            "Frações com soma 1: 273/546 + 9/18 = 1.0\n",
            "Frações com soma 1: 27/39 + 48/156 = 1.0\n",
            "Frações com soma 1: 27/54 + 69/138 = 1.0\n",
            "Frações com soma 1: 27/54 + 93/186 = 1.0\n",
            "Frações com soma 1: 28/146 + 59/73 = 1.0\n",
            "Frações com soma 1: 293/586 + 7/14 = 1.0\n",
            "Frações com soma 1: 29/58 + 67/134 = 1.0\n",
            "Frações com soma 1: 29/58 + 73/146 = 1.0\n",
            "Frações com soma 1: 3/16 + 754/928 = 1.0\n",
            "Frações com soma 1: 32/184 + 57/69 = 1.0\n",
            "Frações com soma 1: 32/64 + 79/158 = 1.0\n",
            "Frações com soma 1: 327/654 + 9/18 = 1.0\n",
            "Frações com soma 1: 329/658 + 7/14 = 1.0\n",
            "Frações com soma 1: 34/158 + 62/79 = 1.0\n",
            "Frações com soma 1: 34/51 + 89/267 = 1.0\n",
            "Frações com soma 1: 35/64 + 87/192 = 1.0\n",
            "Frações com soma 1: 3/57 + 864/912 = 1.0\n",
            "Frações com soma 1: 3/6 + 729/1458 = 1.0\n",
            "Frações com soma 1: 3/6 + 792/1584 = 1.0\n",
            "Frações com soma 1: 3/6 + 927/1854 = 1.0\n",
            "Frações com soma 1: 37/629 + 48/51 = 1.0\n",
            "Frações com soma 1: 38/57 + 64/192 = 1.0\n",
            "Frações com soma 1: 386/579 + 4/12 = 1.0\n",
            "Frações com soma 1: 391/476 + 5/28 = 1.0\n",
            "Frações com soma 1: 4/12 + 386/579 = 1.0\n",
            "Frações com soma 1: 4/12 + 638/957 = 1.0\n",
            "Frações com soma 1: 416/598 + 7/23 = 1.0\n",
            "Frações com soma 1: 42/637 + 85/91 = 1.0\n",
            "Frações com soma 1: 42/651 + 87/93 = 1.0\n",
            "Frações com soma 1: 4/6 + 839/2517 = 1.0\n",
            "Frações com soma 1: 48/156 + 27/39 = 1.0\n",
            "Frações com soma 1: 48/51 + 37/629 = 1.0\n",
            "Frações com soma 1: 48/52 + 61/793 = 1.0\n",
            "Frações com soma 1: 52/364 + 78/91 = 1.0\n",
            "Frações com soma 1: 52/376 + 81/94 = 1.0\n",
            "Frações com soma 1: 5/28 + 391/476 = 1.0\n",
            "Frações com soma 1: 54/63 + 27/189 = 1.0\n",
            "Frações com soma 1: 54/78 + 96/312 = 1.0\n",
            "Frações com soma 1: 5/6 + 289/1734 = 1.0\n",
            "Frações com soma 1: 56/84 + 73/219 = 1.0\n",
            "Frações com soma 1: 56/84 + 91/273 = 1.0\n",
            "Frações com soma 1: 57/64 + 91/832 = 1.0\n",
            "Frações com soma 1: 57/69 + 24/138 = 1.0\n",
            "Frações com soma 1: 57/69 + 32/184 = 1.0\n",
            "Frações com soma 1: 57/81 + 96/324 = 1.0\n",
            "Frações com soma 1: 58/174 + 26/39 = 1.0\n",
            "Frações com soma 1: 58/174 + 62/93 = 1.0\n",
            "Frações com soma 1: 59/73 + 28/146 = 1.0\n",
            "Frações com soma 1: 61/793 + 48/52 = 1.0\n",
            "Frações com soma 1: 62/79 + 34/158 = 1.0\n",
            "Frações com soma 1: 62/93 + 58/174 = 1.0\n",
            "Frações com soma 1: 638/957 + 4/12 = 1.0\n",
            "Frações com soma 1: 64/192 + 38/57 = 1.0\n",
            "Frações com soma 1: 67/134 + 29/58 = 1.0\n",
            "Frações com soma 1: 6/71 + 845/923 = 1.0\n",
            "Frações com soma 1: 6/7 + 589/4123 = 1.0\n",
            "Frações com soma 1: 69/138 + 27/54 = 1.0\n",
            "Frações com soma 1: 7/14 + 269/538 = 1.0\n",
            "Frações com soma 1: 7/14 + 293/586 = 1.0\n",
            "Frações com soma 1: 7/14 + 329/658 = 1.0\n",
            "Frações com soma 1: 715/832 + 9/64 = 1.0\n",
            "Frações com soma 1: 7/23 + 416/598 = 1.0\n",
            "Frações com soma 1: 72/84 + 93/651 = 1.0\n",
            "Frações com soma 1: 73/146 + 29/58 = 1.0\n",
            "Frações com soma 1: 73/219 + 56/84 = 1.0\n",
            "Frações com soma 1: 754/928 + 3/16 = 1.0\n",
            "Frações com soma 1: 78/91 + 52/364 = 1.0\n",
            "Frações com soma 1: 79/158 + 23/46 = 1.0\n",
            "Frações com soma 1: 79/158 + 32/64 = 1.0\n",
            "Frações com soma 1: 7/9 + 812/3654 = 1.0\n",
            "Frações com soma 1: 81/94 + 52/376 = 1.0\n",
            "Frações com soma 1: 845/923 + 6/71 = 1.0\n",
            "Frações com soma 1: 85/91 + 42/637 = 1.0\n",
            "Frações com soma 1: 864/912 + 3/57 = 1.0\n",
            "Frações com soma 1: 87/192 + 35/64 = 1.0\n",
            "Frações com soma 1: 87/93 + 42/651 = 1.0\n",
            "Frações com soma 1: 89/267 + 34/51 = 1.0\n",
            "Frações com soma 1: 91/273 + 56/84 = 1.0\n",
            "Frações com soma 1: 9/18 + 267/534 = 1.0\n",
            "Frações com soma 1: 9/18 + 273/546 = 1.0\n",
            "Frações com soma 1: 91/832 + 57/64 = 1.0\n",
            "Frações com soma 1: 9/18 + 327/654 = 1.0\n",
            "Frações com soma 1: 93/186 + 27/54 = 1.0\n",
            "Frações com soma 1: 93/651 + 72/84 = 1.0\n",
            "Frações com soma 1: 96/312 + 54/78 = 1.0\n",
            "Frações com soma 1: 96/324 + 57/81 = 1.0\n",
            "Frações com soma 1: 9/64 + 715/832 = 1.0\n",
            "Número de fracoes com soma 1 = 49.0\n"
          ]
        }
      ]
    },
    {
      "cell_type": "markdown",
      "source": [
        "## <font color= \"black\">**Problema**:</font> Qual é o máximo divisor comum (MDC) de <i>27747720</i> e <i>72144072</i>?"
      ],
      "metadata": {
        "id": "lWolHBLNUklx"
      }
    },
    {
      "cell_type": "code",
      "source": [
        "'''\n",
        "Resolução computacional\n",
        "'''\n",
        "\n",
        "num1 = 27747720\n",
        "num2 = 72144072\n",
        "\n",
        "num_menor = min(num1, num2)\n",
        "\n",
        "mdc = 1\n",
        "for k in range(1, num_menor + 1):\n",
        "    if num1%k == 0 and num2%k == 0:\n",
        "        mdc = k\n",
        "\n",
        "print(f\"MDC({num1}, {num2}) = {mdc}.\")"
      ],
      "metadata": {
        "colab": {
          "base_uri": "https://localhost:8080/"
        },
        "id": "S2zeiO9AbDPF",
        "outputId": "40dc4077-e94e-45cb-d0e1-ba376b9bfbeb"
      },
      "execution_count": 29,
      "outputs": [
        {
          "output_type": "stream",
          "name": "stdout",
          "text": [
            "MDC(35, 16) = 1.\n"
          ]
        }
      ]
    },
    {
      "cell_type": "markdown",
      "source": [
        "## <font color= \"black\">**Problema**:</font> Qual é o mínimo múltiplo comum (MMC) de <i>27747720</i> e <i>72144072</i>?"
      ],
      "metadata": {
        "id": "0zWWth50Uvmd"
      }
    },
    {
      "cell_type": "code",
      "source": [
        "'''\n",
        "Resolução computacional\n",
        "'''\n",
        "\n",
        "num1 = 27747720\n",
        "num2 = 72144072\n",
        "\n",
        "\n",
        "num_menor = min(num1, num2)\n",
        "num_maior = max(num1, num2)\n",
        "\n",
        "mmc = num_maior\n",
        "k = 1\n",
        "while ((k*num_menor) % num_maior) != 0:\n",
        "    k += 1\n",
        "    mmc = k*num_menor\n",
        "\n",
        "print(f\"MMC({num1}, {num2}) = {mmc}.\")"
      ],
      "metadata": {
        "colab": {
          "base_uri": "https://localhost:8080/"
        },
        "id": "E7PpZFcsb1hW",
        "outputId": "5c463eff-4e2a-416f-c139-2e0cd7a0c003"
      },
      "execution_count": 34,
      "outputs": [
        {
          "output_type": "stream",
          "name": "stdout",
          "text": [
            "MMC(27747720, 72144072) = 360720360.\n"
          ]
        }
      ]
    },
    {
      "cell_type": "markdown",
      "source": [
        "## <font color= \"black\">**Problema**:</font> Um vestibular tem 6 provas, cada prova contém 15 questões, cada questão contém 5 alternativas, com apenas uma delas sendo correta. Qual é a probabilidade que tem de zerar pelo menos uma das provas, um candidato que chute todas as questões do vestibular?"
      ],
      "metadata": {
        "id": "_xY5RTl8RaiY"
      }
    },
    {
      "cell_type": "markdown",
      "source": [
        "**Resolução algébrica**\n",
        "\n",
        "[$\\star$]   Lúcio Fassarella: *A resposta é plausível? Comentários baseados em um cálculo de probabilidades*. Revista do Professor de Matemática, no.70 (2009): p.1-5. Url: [https://www.rpm.org.br/cdrpm/70/10.html](https://www.rpm.org.br/cdrpm/70/10.html).\n",
        "\n",
        "$$\n",
        "\\\n",
        "$$\n",
        "\n",
        "*Preliminares*\n",
        "\n",
        "Se um candidato chutar todas as questões, então o resultado (acerto ou erro) em cada questão é independente do resultado em outra questão; logo, as probabilidades de acertar (ou de errar) um conjunto de questões é igual ao produto das probabilidades de acertar (ou errar) cada uma.\n",
        "\n",
        "Analogamente, como cada prova é independente da outra, a probabilidade de zerar um conjunto de provas é igual ao produto das probabilidades de zerar cada prova.\n",
        "\n",
        "\n",
        "\n",
        "*Desenvolvimento*\n",
        "\n",
        "*   Como cada questão possui $5$ alternativas e só uma delas é correta, então a probabilidade de acertar uma questão no chute é de $1/5$, enquanto a probabilidade de errar é o complementar disso: $4/5$.\n",
        "\n",
        "*   Como cada prova possui $15$ questões e a probabilidade de errar cada uma é $4/5$, então a probabilidade de errar todas é igual a $(4/5)^{15}$, enquanto a probabilidade de acertar pelo menos uma questão é o complementar disso: $1 - (4/5)^{15}$. Ou seja, a probabilidade do candidato chutador não zerar uma prova é\n",
        "$$\n",
        "\\text{Prob}_{nP} = 1- \\left( \\frac{4}{5} \\right)^{15}.\n",
        "$$\n",
        "\n",
        "*   Então, a probabilidade de zerar nenhuma prova em um vestibular com $6$ provas é:\n",
        "$$\n",
        "\\text{Prob}_{nV} = \\text{Prob}_{nP}^6 = \\left(1- \\left( \\frac{4}{5} \\right)^{15}\\right)^6.\n",
        "$$\n",
        "*   Portanto, a probabilidade de zerar pelo menos uma prova em um vestibular com $6$ questões é o complementar desse número:\n",
        "$$\n",
        "\\text{Prob}_{zv} = 1 - \\text{Prob}_{nV} = 1 - \\left(1- \\left( \\frac{4}{5} \\right)^{15}\\right)^6.\n",
        "$$\n",
        "\n",
        "<font color = \"red\">Resposta</font>: $1 - \\left(1- \\left( \\frac{4}{5} \\right)^{15}\\right)^6 \\approx 19.3385 \\%$. Traduzindo em palavras, isso significa que cerca de $1$ em cada $5$ candidatos que chutam todas as questões do vestibular zera pelo menos uma das $6$ provas."
      ],
      "metadata": {
        "id": "1925pwRMQc9v"
      }
    },
    {
      "cell_type": "code",
      "source": [
        "'''\n",
        "Resolução computacional\n",
        "'''\n",
        "\n",
        "from numpy.random import randint as rand\n",
        "\n",
        "num_provas = 6\n",
        "num_questoes = 15\n",
        "num_alternativas = 5\n",
        "\n",
        "num_vestibulares = 100000 # ensamble de vestibulares\n",
        "\n",
        "num_vestibular_zerados = 0\n",
        "for v in range(ensamble): # vestibular\n",
        "    num_provas_zeradas = 0\n",
        "    for p in range(num_provas): # prova\n",
        "        acertos = 0\n",
        "        for q in range(num_questoes): # questão\n",
        "            gabarito = rand(num_alternativas)\n",
        "            chute = rand(num_alternativas)\n",
        "            if gabarito == chute:\n",
        "                acertos += 1\n",
        "        if acertos == 0:\n",
        "            num_provas_zeradas += 1\n",
        "    if num_provas_zeradas != 0:\n",
        "        num_vestibular_zerados += 1\n",
        "\n",
        "probabilidade = float(num_vestibular_zerados)/float(ensamble)\n",
        "\n",
        "print(f\"Probabilidade de zerar uma prova num vestibular:\")\n",
        "print(f\"{probabilidade}\")"
      ],
      "metadata": {
        "colab": {
          "base_uri": "https://localhost:8080/"
        },
        "id": "eKGfRs4hNtbp",
        "outputId": "b7d702f4-a288-4928-ecea-0541103d520e"
      },
      "execution_count": 25,
      "outputs": [
        {
          "output_type": "stream",
          "name": "stdout",
          "text": [
            "Probabilidade de zerar uma prova num vestibular:\n",
            "0.19421\n"
          ]
        }
      ]
    },
    {
      "cell_type": "markdown",
      "source": [
        "## **Problema**:"
      ],
      "metadata": {
        "id": "mzSN8efdhZq2"
      }
    },
    {
      "cell_type": "code",
      "source": [],
      "metadata": {
        "id": "0RII5jL8dT6Q"
      },
      "execution_count": null,
      "outputs": []
    }
  ]
}